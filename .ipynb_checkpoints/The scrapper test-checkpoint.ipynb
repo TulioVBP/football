{
 "cells": [
  {
   "cell_type": "code",
   "execution_count": null,
   "id": "periodic-change",
   "metadata": {},
   "outputs": [],
   "source": [
    "from bs4 import BeautifulSoup\n",
    "import requests\n",
    "import json\n",
    "import codecs\n",
    "import pandas as pd\n",
    "from pandas import json_normalize\n",
    "import os\n",
    "from pathlib import Path\n",
    "        "
   ]
  },
  {
   "cell_type": "code",
   "execution_count": null,
   "id": "growing-digit",
   "metadata": {},
   "outputs": [],
   "source": [
    "# Step 1 - Obtain website soup for the given league and season\n",
    "url = 'https://understat.com/match/4406'\n",
    "response = requests.get(url)\n",
    "soup = BeautifulSoup(response.text, 'html.parser')"
   ]
  },
  {
   "cell_type": "code",
   "execution_count": null,
   "id": "intelligent-monday",
   "metadata": {},
   "outputs": [],
   "source": [
    "# Step 2 - Identify the players data\n",
    "roster_home = soup.find(\"div\", class_ = 'roster roster-home'); roster_home"
   ]
  },
  {
   "cell_type": "code",
   "execution_count": null,
   "id": "contained-cycling",
   "metadata": {},
   "outputs": [],
   "source": [
    "rhp = roster_home.find_all('label', class_='player'); rhp"
   ]
  },
  {
   "cell_type": "code",
   "execution_count": null,
   "id": "earned-david",
   "metadata": {},
   "outputs": [],
   "source": [
    "print(rhp[0])\n",
    "print(rhp[0].find('span',class_ = 'player-name').text)"
   ]
  },
  {
   "cell_type": "code",
   "execution_count": null,
   "id": "presidential-acquisition",
   "metadata": {},
   "outputs": [],
   "source": [
    "schema = ['matchId','date','homeTeam','awayTeam','homeScore','awayScore','playerId','playerName','playerPosition','playerTime','playerSide']\n",
    "df_squad = pd.DataFrame(columns = schema)\n",
    "for matchId in range(20000) # Guessing a maximum of 20.000 matches\n",
    "    header = soup.find('div', class_ = 'header-wrapper') # Extracting the header of the page\n",
    "    teams  = header.find_all('a',class_ = not 'link-icon'); # Extracting the name of the teams\n",
    "    score = [header.find('span').text.split(' - ')[0][-1], header.find('span').text.split(' - ')[1][0]]\n",
    "    breadcrumb = soup.find('ul',class_ = 'breadcrumb'); # Extracting date\n",
    "    date = breadcrumb.find_all('li')[-1].text\n",
    "    for player_data in rhp:\n",
    "        temp = {}\n",
    "        temp['matchId'] = matchId\n",
    "        temp['date'] = date\n",
    "        temp['homeTeam'] = teams[0].text\n",
    "        temp['awayTeam'] = teams[1].text\n",
    "        temp['homeScore'] = score[0]\n",
    "        temp['awayScore'] = score[1]\n",
    "        temp['playerId'] = \n",
    "        temp['playerName'] = player_data.find('span',class_ = 'player-name').text\n",
    "        temp['playerPosition'] = player_data.find('span',class_ = 'player-position').text\n",
    "        temp['playerTime'] = player_data.find('span',class_ = 'player-time').text\n",
    "        temp['playerSide'] = 'h'\n"
   ]
  },
  {
   "cell_type": "code",
   "execution_count": null,
   "id": "intended-award",
   "metadata": {},
   "outputs": [],
   "source": [
    "class match:\n",
    "    def __init__(id_, rhp, rap):\n",
    "        matchId = id_\n",
    "        df_posconf = pd.read_excel('config/positions_config.xlsx') # Load the positions config file\n",
    "        macropositions = df_posconf['Macro position'].unique().tolist();\n",
    "        \n",
    "\n",
    "    def map_position(pos):\n",
    "        # trim R and L from the end\n",
    "        if pos[-1] == 'R':\n",
    "            pos = pos.rsplit('R',1)[0]\n",
    "        elif pos[-1] == 'L':\n",
    "            pos = pos.rsplit('L',1)[0]\n",
    "        # Define macro pos\n",
    "        try:\n",
    "            macro = df_posconf.loc[df_posconf['Abbreviation'] == pos,'Macro position']\n",
    "        except KeyError:\n",
    "            macro = df_posconf.loc[df_posconf['Abbreviation'] =='Default','Macro position']\n",
    "        "
   ]
  },
  {
   "cell_type": "code",
   "execution_count": null,
   "id": "arctic-flavor",
   "metadata": {},
   "outputs": [],
   "source": [
    "'RAB'.rsplit('R',1)"
   ]
  },
  {
   "cell_type": "code",
   "execution_count": null,
   "id": "automated-convenience",
   "metadata": {},
   "outputs": [],
   "source": [
    "header = soup.find('div', class_ = 'header-wrapper'); #print(header)\n",
    "squads  = header.find_all('a',class_ = not 'link-icon');\n",
    "breadcrumb = soup.find('ul',class_ = 'breadcrumb'); #print(breadcrumb)\n",
    "print('Date: ', breadcrumb.find_all('li')[-1].text)\n",
    "print('Home team: ', squads[0].text)\n",
    "print('Away team: ', squads[1].text)\n",
    "print('Result: ',header.find('span').text.split(' - ')[0][-1],'-',header.find('span').text.split(' - ')[1][0])"
   ]
  },
  {
   "cell_type": "code",
   "execution_count": null,
   "id": "gorgeous-preserve",
   "metadata": {},
   "outputs": [],
   "source": []
  }
 ],
 "metadata": {
  "interpreter": {
   "hash": "aee8b7b246df8f9039afb4144a1f6fd8d2ca17a180786b69acc140d282b71a49"
  },
  "kernelspec": {
   "display_name": "Python 3",
   "language": "python",
   "name": "python3"
  },
  "language_info": {
   "codemirror_mode": {
    "name": "ipython",
    "version": 3
   },
   "file_extension": ".py",
   "mimetype": "text/x-python",
   "name": "python",
   "nbconvert_exporter": "python",
   "pygments_lexer": "ipython3",
   "version": "3.9.2"
  }
 },
 "nbformat": 4,
 "nbformat_minor": 5
}
